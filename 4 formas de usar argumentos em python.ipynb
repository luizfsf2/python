{
 "cells": [
  {
   "cell_type": "code",
   "execution_count": 10,
   "metadata": {},
   "outputs": [
    {
     "data": {
      "text/html": [
       "\n",
       "<style>\n",
       ".light { color: #555 }\n",
       "</style>\n"
      ],
      "text/plain": [
       "<IPython.core.display.HTML object>"
      ]
     },
     "execution_count": 10,
     "metadata": {},
     "output_type": "execute_result"
    }
   ],
   "source": [
    "from IPython.core.display import HTML\n",
    "HTML(\"\"\"\n",
    "<style>\n",
    ".light { color: #555 }\n",
    "</style>\n",
    "\"\"\")"
   ]
  },
  {
   "cell_type": "markdown",
   "metadata": {},
   "source": [
    "# As 4 formas de passar e receber argumentos em funções Python"
   ]
  },
  {
   "cell_type": "markdown",
   "metadata": {},
   "source": [
    "Iniciando a partir de uma função simples que recebe 2 argumentos e os devolve em uma string:"
   ]
  },
  {
   "cell_type": "code",
   "execution_count": 1,
   "metadata": {},
   "outputs": [],
   "source": [
    "def funcao_apresenta(nome, sobrenome):\n",
    "    return f'Meu nome é {nome} e meu sobrenome é {sobrenome}'"
   ]
  },
  {
   "cell_type": "markdown",
   "metadata": {},
   "source": [
    "Para utilizar a função basta passar os argumentos `nome` e `sobrenome`.\n",
    "Há 4 maneiras que esses argumentos podem ser passados:"
   ]
  },
  {
   "cell_type": "markdown",
   "metadata": {},
   "source": [
    "## 1. Argumentos posicionais:\n",
    "\n",
    "<span class=\"light\">Passados na ordem que foram definidos na função</span>"
   ]
  },
  {
   "cell_type": "code",
   "execution_count": 2,
   "metadata": {},
   "outputs": [
    {
     "data": {
      "text/plain": [
       "'Meu nome é Matematicos e meu sobrenome é de Quinta'"
      ]
     },
     "execution_count": 2,
     "metadata": {},
     "output_type": "execute_result"
    }
   ],
   "source": [
    "funcao_apresenta('Matematicos', 'de Quinta')"
   ]
  },
  {
   "cell_type": "markdown",
   "metadata": {},
   "source": [
    "## 2. Argumentos nomeados\n",
    "\n",
    "<span class=\"light\">Não importa a ordem.</span>"
   ]
  },
  {
   "cell_type": "code",
   "execution_count": 11,
   "metadata": {},
   "outputs": [
    {
     "data": {
      "text/plain": [
       "'Meu nome é Matemáticos e meu sobrenome é de Quinta'"
      ]
     },
     "execution_count": 11,
     "metadata": {},
     "output_type": "execute_result"
    }
   ],
   "source": [
    "funcao_apresenta(sobrenome = 'de Quinta', nome = 'Matemáticos')"
   ]
  },
  {
   "cell_type": "markdown",
   "metadata": {},
   "source": [
    "## 3. Argumentos asteriscos simples (*):\n",
    "\n",
    "<span class=\"light\">*(Convencionalmente chamados de `args`)*</span>\n",
    "\n",
    "<span class=\"light\">Neste caso temos 2 possibilidades:</span>"
   ]
  },
  {
   "cell_type": "markdown",
   "metadata": {},
   "source": [
    "### 3.1. Passar argumentos posicionais por meio de um tupla"
   ]
  },
  {
   "cell_type": "code",
   "execution_count": 4,
   "metadata": {},
   "outputs": [
    {
     "data": {
      "text/plain": [
       "'Meu nome é Steve e meu sobrenome é Jobs'"
      ]
     },
     "execution_count": 4,
     "metadata": {},
     "output_type": "execute_result"
    }
   ],
   "source": [
    "args = ('Steve', 'Jobs')\n",
    "funcao_apresenta(*args)"
   ]
  },
  {
   "cell_type": "markdown",
   "metadata": {},
   "source": [
    "<span class=\"light\">Ao ver o `*`, o Python desempacota a tupla e chama a função como se passássemos argumentos posicionais.</span>"
   ]
  },
  {
   "cell_type": "markdown",
   "metadata": {},
   "source": [
    "### 3.2. Passar argumentos posicionais para uma função com argumento asterisco simples"
   ]
  },
  {
   "cell_type": "code",
   "execution_count": 5,
   "metadata": {},
   "outputs": [],
   "source": [
    "def funcao_args(*args):\n",
    "    nome = args[0]\n",
    "    sobrenome = args[1]\n",
    "    return f'Meu nome é {nome} e meu sobrenome é {sobrenome}'"
   ]
  },
  {
   "cell_type": "markdown",
   "metadata": {},
   "source": [
    "<span class=\"light\">Ao ver o `*` no parâmetro da função, o Python empacota em uma tupla todos argumentos posicionais passados para a função.</span>"
   ]
  },
  {
   "cell_type": "code",
   "execution_count": 6,
   "metadata": {},
   "outputs": [
    {
     "data": {
      "text/plain": [
       "'Meu nome é Bill e meu sobrenome é Gates'"
      ]
     },
     "execution_count": 6,
     "metadata": {},
     "output_type": "execute_result"
    }
   ],
   "source": [
    "funcao_args('Bill', 'Gates')"
   ]
  },
  {
   "cell_type": "markdown",
   "metadata": {},
   "source": [
    "## 4. Argumentos asteriscos duplos (**)\n",
    "\n",
    "<span class=\"light\">*(Convencionalmente chamados de `kwargs`)*</span>\n",
    "\n",
    "<span class=\"light\">Neste caso temos 2 possibilidades:</span>"
   ]
  },
  {
   "cell_type": "markdown",
   "metadata": {},
   "source": [
    "### 4.1. Passar argumentos nomeados por meio de um dicionário"
   ]
  },
  {
   "cell_type": "code",
   "execution_count": 7,
   "metadata": {},
   "outputs": [
    {
     "data": {
      "text/plain": [
       "'Meu nome é Mark e meu sobrenome é Zuckerberg'"
      ]
     },
     "execution_count": 7,
     "metadata": {},
     "output_type": "execute_result"
    }
   ],
   "source": [
    "kwargs = {'sobrenome': 'Zuckerberg', 'nome': 'Mark'}\n",
    "funcao_apresenta(**kwargs)"
   ]
  },
  {
   "cell_type": "markdown",
   "metadata": {},
   "source": [
    "<span class=\"light\">Ao ver o `**` junto ao argumento, o Python desempacota a dicionário e chama a função como **parâmetros nomeados**:</span>\n",
    "\n",
    "```python\n",
    "funcao_simples(sobrenome = 'de Quinta', nome = 'Matematicos')\n",
    "```"
   ]
  },
  {
   "cell_type": "markdown",
   "metadata": {},
   "source": [
    "### 4.2. Passar argumentos nomeados para uma função com argumento asterisco duplo"
   ]
  },
  {
   "cell_type": "code",
   "execution_count": 8,
   "metadata": {},
   "outputs": [],
   "source": [
    "def funcao_kwargs(**kwargs):\n",
    "    nome = kwargs['nome']\n",
    "    sobrenome = kwargs['sobrenome']\n",
    "    return f'Meu nome é {nome} e meu sobrenome é {sobrenome}'"
   ]
  },
  {
   "cell_type": "markdown",
   "metadata": {},
   "source": [
    "<span class=\"light\">Ao ver o `**` no parâmetro da função, o Python empacota em um dicionário todos argumentos nomeados passados para a função.</span>"
   ]
  },
  {
   "cell_type": "code",
   "execution_count": 9,
   "metadata": {},
   "outputs": [
    {
     "data": {
      "text/plain": [
       "'Meu nome é Jeff e meu sobrenome é Bezos'"
      ]
     },
     "execution_count": 9,
     "metadata": {},
     "output_type": "execute_result"
    }
   ],
   "source": [
    "funcao_kwargs(nome = 'Jeff', sobrenome = 'Bezos')"
   ]
  },
  {
   "cell_type": "code",
   "execution_count": null,
   "metadata": {},
   "outputs": [],
   "source": []
  }
 ],
 "metadata": {
  "kernelspec": {
   "display_name": "Python 3",
   "language": "python",
   "name": "python3"
  },
  "language_info": {
   "codemirror_mode": {
    "name": "ipython",
    "version": 3
   },
   "file_extension": ".py",
   "mimetype": "text/x-python",
   "name": "python",
   "nbconvert_exporter": "python",
   "pygments_lexer": "ipython3",
   "version": "3.7.4"
  }
 },
 "nbformat": 4,
 "nbformat_minor": 4
}
